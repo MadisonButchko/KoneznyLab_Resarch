{
 "cells": [
  {
   "cell_type": "code",
   "execution_count": 83,
   "id": "253d0d76",
   "metadata": {},
   "outputs": [],
   "source": [
    "# PLAN\n",
    "# 1) Finding line of fit for 1 data set\n",
    "# 2) Calculating the slope, which is the conductance and line of fit\n",
    "# 3) Finding lines of fit and slope for all 5 data sets\n",
    "# 4) **Finding Standard Deviation \n",
    "# 5) Using the slope (conductance) to find conductivity \n",
    "# 6) Plug in values into formula, using width, lenght, and thickness values. \n",
    "\n",
    "#This code completes Step 1-2"
   ]
  },
  {
   "cell_type": "code",
   "execution_count": 84,
   "id": "ef107db4",
   "metadata": {},
   "outputs": [],
   "source": [
    "import numpy as np\n",
    "import pandas as pd\n",
    "import matplotlib.pyplot as plt\n",
    "from scipy.optimize import curve_fit"
   ]
  },
  {
   "cell_type": "code",
   "execution_count": 17,
   "id": "b98cf13b",
   "metadata": {},
   "outputs": [],
   "source": [
    " f = open(\"JS04-T004-0001.dat\", \"r\")  ## f = open(\"filename.dat\", \"r\") f.readline()"
   ]
  },
  {
   "cell_type": "code",
   "execution_count": 18,
   "id": "1608c275",
   "metadata": {},
   "outputs": [],
   "source": [
    "file_names = [\"JS04-T004-0001.dat\", \"JS04-T004-0002.dat\", \"JS04-T004-0003.dat\", \"JS04-T004-0004.dat\", \"JS04-T004-0005.dat\"]"
   ]
  },
  {
   "cell_type": "code",
   "execution_count": 49,
   "id": "56c79e25",
   "metadata": {},
   "outputs": [],
   "source": [
    "#practice / first-try\n",
    "d1 = pd.read_csv('JS04-T004-0001.dat')\n",
    "#insert the file path into '' // if the file is in the same place as this code, then just write the file name\n",
    "print(d1) #Here the data is not seperated and read correctly"
   ]
  },
  {
   "cell_type": "code",
   "execution_count": 51,
   "id": "a16ff678",
   "metadata": {
    "scrolled": true
   },
   "outputs": [
    {
     "name": "stdout",
     "output_type": "stream",
     "text": [
      "    voltage       current\n",
      "0       0.0  2.248000e-08\n",
      "1       0.1  3.416000e-05\n",
      "2       0.2  6.829500e-05\n",
      "3       0.3  1.024500e-04\n",
      "4       0.4  1.365500e-04\n",
      "5       0.5  1.707000e-04\n",
      "6       0.6  2.049000e-04\n",
      "7       0.7  2.389500e-04\n",
      "8       0.8  2.731000e-04\n",
      "9       0.9  3.072000e-04\n",
      "10      1.0  3.413500e-04\n",
      "11      1.0  3.414000e-04\n",
      "12      0.9  3.072000e-04\n",
      "13      0.8  2.731000e-04\n",
      "14      0.7  2.389500e-04\n",
      "15      0.6  2.049000e-04\n",
      "16      0.5  1.707000e-04\n",
      "17      0.4  1.365500e-04\n",
      "18      0.3  1.024000e-04\n",
      "19      0.2  6.829000e-05\n",
      "20      0.1  3.416000e-05\n",
      "21      0.0  2.232000e-08\n"
     ]
    }
   ],
   "source": [
    "d1 = pd.read_csv('JS04-T004-0001.dat', sep = '\\s+', usecols = [0,1], names = [\"voltage\", \"current\"])\n",
    "#sep = // to seperate the data because it is seperated by spaces \\s+\n",
    "#usecols = // this is to use only the 1st and second columns \n",
    "print(d1)\n",
    "\n",
    "# d1['current'] #these print the columns"
   ]
  },
  {
   "cell_type": "code",
   "execution_count": 82,
   "id": "7a038e34",
   "metadata": {},
   "outputs": [
    {
     "name": "stdout",
     "output_type": "stream",
     "text": [
      "This is the slope (conductance):0.000341\n",
      "This is the equation for the line of best fit:y = 0.000341x+2.75e-08\n"
     ]
    },
    {
     "data": {
      "image/png": "[encoded data removed]",
      "text/plain": [
       "<Figure size 432x288 with 1 Axes>"
      ]
     },
     "metadata": {
      "needs_background": "light"
     },
     "output_type": "display_data"
    }
   ],
   "source": [
    "plt.scatter(d1['voltage'], d1['current'], s = 20, c = 'b') #s = size // c = color\n",
    "\n",
    "m, b = np.polyfit(d1['voltage'], d1['current'], 1)\n",
    "#1 means to fit a line, 2 means to fit quadratic, 3 means to fit to cubic\n",
    "#the number here means what degree to fit to\n",
    "plt.plot(d1['voltage'], m*d1['voltage'] + b, linestyle = '--', color = 'red')\n",
    "# plt.polt(x variable, y variable in the form of mx + b)\n",
    "\n",
    "plt.xlabel(\"voltage\")\n",
    "plt.ylabel(\"current\")\n",
    "plt.title(\"Ohm's Law\")\n",
    "\n",
    "my_slope = 'This is the slope (conductance):'+ str(round(m,6))\n",
    "# ^^ created the name \"my_slope\" // '___' is a string // str stands for string\n",
    "print(my_slope)\n",
    "\n",
    "my_line = 'This is the equation for the line of best fit:' + \"y = \" + str(round(m,6)) + \"x+\" + str(round(b,10))\n",
    "print(my_line)\n",
    "\n",
    "#If you want to round, round(m,#) // the # is how many digits to round to"
   ]
  },
  {
   "cell_type": "code",
   "execution_count": null,
   "id": "e4b67912",
   "metadata": {},
   "outputs": [],
   "source": []
  }
 ],
 "metadata": {
  "kernelspec": {
   "display_name": "Python 3 (ipykernel)",
   "language": "python",
   "name": "python3"
  },
  "language_info": {
   "codemirror_mode": {
    "name": "ipython",
    "version": 3
   },
   "file_extension": ".py",
   "mimetype": "text/x-python",
   "name": "python",
   "nbconvert_exporter": "python",
   "pygments_lexer": "ipython3",
   "version": "3.9.12"
  }
 },
 "nbformat": 4,
 "nbformat_minor": 5
}
